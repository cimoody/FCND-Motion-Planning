{
 "cells": [
  {
   "cell_type": "code",
   "execution_count": null,
   "metadata": {},
   "outputs": [],
   "source": [
    "import numpy as np\n",
    "import matplotlib.pyplot as plt\n",
    "from mpl_toolkits.mplot3d import Axes3D\n",
    "\n",
    "%matplotlib inline "
   ]
  },
  {
   "cell_type": "code",
   "execution_count": null,
   "metadata": {},
   "outputs": [],
   "source": [
    "def create_voxmap(data, voxel_size=5, safety_distance=0):\n",
    "    \"\"\"\n",
    "    Returns a grid representation of a 3D configuration space\n",
    "    based on given obstacle data.\n",
    "    \n",
    "    The `voxel_size` argument sets the resolution of the voxel map. \n",
    "    \"\"\"\n",
    "\n",
    "    # minimum and maximum north coordinates\n",
    "    north_min = np.floor(np.amin(data[:, 0] - data[:, 3]))\n",
    "    north_max = np.ceil(np.amax(data[:, 0] + data[:, 3]))\n",
    "\n",
    "    # minimum and maximum east coordinates\n",
    "    east_min = np.floor(np.amin(data[:, 1] - data[:, 4]))\n",
    "    east_max = np.ceil(np.amax(data[:, 1] + data[:, 4]))\n",
    "\n",
    "    # maximum altitude\n",
    "    alt_max = np.ceil(np.amax(data[:, 2] + data[:, 5]))\n",
    "    \n",
    "    # given the minimum and maximum coordinates we can\n",
    "    # calculate the size of the grid.\n",
    "    north_size = int(np.ceil((north_max - north_min))) // voxel_size\n",
    "    east_size = int(np.ceil((east_max - east_min))) // voxel_size\n",
    "    alt_size = int(alt_max) // voxel_size\n",
    "\n",
    "    voxmap = np.zeros((north_size, east_size, alt_size), dtype=np.bool)\n",
    "\n",
    "    for i in range(data.shape[0]):\n",
    "        # TODO: fill in the voxels that are part of an obstacle with `True`\n",
    "        #\n",
    "        # i.e. grid[0:5, 20:26, 2:7] = True\n",
    "        north, east, alt, d_north, d_east, d_alt = data[i, :]\n",
    "        obstacle = [\n",
    "            int(north - d_north - safety_distance - north_min) // voxel_size,                \n",
    "            int(north + d_north + safety_distance - north_min) // voxel_size,\n",
    "            int(east - d_east - safety_distance - east_min) // voxel_size,                \n",
    "            int(east + d_east + safety_distance - east_min) // voxel_size,\n",
    "            int(alt + d_alt + safety_distance) // voxel_size\n",
    "        ]\n",
    "        voxmap[obstacle[0]:obstacle[1], obstacle[2]:obstacle[3], 0:obstacle[4]] = 1\n",
    "    return voxmapa"
   ]
  }
 ],
 "metadata": {
  "kernelspec": {
   "display_name": "Python 3",
   "language": "python",
   "name": "python3"
  },
  "language_info": {
   "codemirror_mode": {
    "name": "ipython",
    "version": 3
   },
   "file_extension": ".py",
   "mimetype": "text/x-python",
   "name": "python",
   "nbconvert_exporter": "python",
   "pygments_lexer": "ipython3",
   "version": "3.6.5"
  }
 },
 "nbformat": 4,
 "nbformat_minor": 2
}

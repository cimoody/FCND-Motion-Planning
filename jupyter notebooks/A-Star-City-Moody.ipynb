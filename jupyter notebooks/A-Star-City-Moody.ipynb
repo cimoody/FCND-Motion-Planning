{
 "cells": [
  {
   "cell_type": "markdown",
   "metadata": {},
   "source": [
    "## Finding Your Way In The City\n",
    "\n",
    "In this notebook you'll combine the work of previous exercises to calculate a minimal series of waypoints in order to get from a start location to a goal location.\n",
    "\n",
    "You'll reuse and modify your algorithms from:\n",
    "\n",
    "- A*\n",
    "- Configuration Space\n",
    "- Collinearity and/or Bresenham"
   ]
  },
  {
   "cell_type": "code",
   "execution_count": 1,
   "metadata": {},
   "outputs": [],
   "source": [
    "import numpy as np\n",
    "import matplotlib.pyplot as plt\n",
    "from grid import create_grid\n",
    "from planning import a_star\n",
    "\n",
    "%matplotlib inline\n",
    "\n",
    "#from bresenham import bresenham"
   ]
  },
  {
   "cell_type": "code",
   "execution_count": 2,
   "metadata": {},
   "outputs": [],
   "source": [
    "plt.rcParams['figure.figsize'] = 12, 12."
   ]
  },
  {
   "cell_type": "markdown",
   "metadata": {},
   "source": [
    "You'll notice we've imported `create_grid`, and `a_star`. These are functions you've implemented in previous exercises, and here you'll use them to create a map and find a path from a starting position to a goal position.\n",
    "\n",
    "To read the function signature and documentation execute `?` followed by the function name in a cell. In the example below we'll check the documentation for `create_grid`."
   ]
  },
  {
   "cell_type": "code",
   "execution_count": 3,
   "metadata": {},
   "outputs": [],
   "source": [
    "?create_grid"
   ]
  },
  {
   "cell_type": "code",
   "execution_count": 4,
   "metadata": {},
   "outputs": [],
   "source": [
    "?a_star"
   ]
  },
  {
   "cell_type": "markdown",
   "metadata": {},
   "source": [
    "If you would like to alter these implementations, you can modify [grid.py](/edit/grid.py) and [planning.py](/edit/planning.py) in the current directory."
   ]
  },
  {
   "cell_type": "code",
   "execution_count": 5,
   "metadata": {},
   "outputs": [
    {
     "name": "stdout",
     "output_type": "stream",
     "text": [
      "[[-310.2389   -439.2315     85.5         5.          5.         85.5     ]\n",
      " [-300.2389   -439.2315     85.5         5.          5.         85.5     ]\n",
      " [-290.2389   -439.2315     85.5         5.          5.         85.5     ]\n",
      " ...\n",
      " [ 257.8061    425.1645      1.75852     1.292725    1.292725    1.944791]\n",
      " [ 293.9967    368.3391      3.557666    1.129456    1.129456    3.667319]\n",
      " [ 281.5162    354.4156      4.999351    1.053772    1.053772    4.950246]]\n"
     ]
    }
   ],
   "source": [
    "# This is the same obstacle data from the previous lesson.\n",
    "filename = 'colliders.csv'\n",
    "data = np.loadtxt(filename, delimiter=',', dtype='Float64', skiprows=2)\n",
    "print(data)"
   ]
  },
  {
   "cell_type": "code",
   "execution_count": 6,
   "metadata": {},
   "outputs": [],
   "source": [
    "# Static drone altitude (meters)\n",
    "drone_altitude = 5\n",
    "\n",
    "# Minimum distance stay away from obstacle (meters)\n",
    "safe_distance = 3"
   ]
  },
  {
   "cell_type": "code",
   "execution_count": 7,
   "metadata": {},
   "outputs": [],
   "source": [
    "# TODO: Use `create_grid` to create a grid configuration space of\n",
    "# the obstacle data.\n",
    "grid = create_grid(data, drone_altitude, safe_distance)"
   ]
  },
  {
   "cell_type": "code",
   "execution_count": 8,
   "metadata": {},
   "outputs": [
    {
     "data": {
      "image/png": "[encoded data removed]",
      "text/plain": [
       "<matplotlib.figure.Figure at 0x61534a2b0>"
      ]
     },
     "metadata": {},
     "output_type": "display_data"
    }
   ],
   "source": [
    "# equivalent to\n",
    "# plt.imshow(np.flip(grid, 0))\n",
    "plt.imshow(grid, origin='lower') \n",
    "\n",
    "plt.xlabel('EAST')\n",
    "plt.ylabel('NORTH')\n",
    "plt.show()"
   ]
  },
  {
   "cell_type": "markdown",
   "metadata": {},
   "source": [
    "Next you'll compute the path from a start location to a goal location using A*."
   ]
  },
  {
   "cell_type": "markdown",
   "metadata": {},
   "source": [
    "Start and goal coordinates in *(north, east)*."
   ]
  },
  {
   "cell_type": "code",
   "execution_count": 9,
   "metadata": {},
   "outputs": [],
   "source": [
    "start_ne = (25,  100)\n",
    "goal_ne = (750, 370)"
   ]
  },
  {
   "cell_type": "markdown",
   "metadata": {},
   "source": [
    "Write a heuristic function."
   ]
  },
  {
   "cell_type": "code",
   "execution_count": 10,
   "metadata": {},
   "outputs": [],
   "source": [
    "def heuristic_func(position, goal_position):\n",
    "    # TODO: write a heuristic!\n",
    "    x, y = position\n",
    "    x_goal, y_goal = goal_position\n",
    "    h = np.sqrt((np.square(x - x_goal) + np.square(y - y_goal)))\n",
    "    return h"
   ]
  },
  {
   "cell_type": "markdown",
   "metadata": {},
   "source": [
    "Compute the lowest cost path with `a_star`. "
   ]
  },
  {
   "cell_type": "code",
   "execution_count": 11,
   "metadata": {},
   "outputs": [
    {
     "name": "stdout",
     "output_type": "stream",
     "text": [
      "Found a path.\n",
      "786 898.4945160902303\n"
     ]
    }
   ],
   "source": [
    "# TODO: use `a_star` to compute the lowest cost path\n",
    "path, cost = a_star(grid, heuristic_func, start_ne, goal_ne)\n",
    "print(len(path), cost)"
   ]
  },
  {
   "cell_type": "markdown",
   "metadata": {},
   "source": [
    "Let's plot the path!"
   ]
  },
  {
   "cell_type": "code",
   "execution_count": 12,
   "metadata": {},
   "outputs": [
    {
     "data": {
      "image/png": "[encoded data removed]",
      "text/plain": [
       "<matplotlib.figure.Figure at 0x615474cc0>"
      ]
     },
     "metadata": {},
     "output_type": "display_data"
    }
   ],
   "source": [
    "plt.imshow(grid, cmap='Greys', origin='lower')\n",
    "\n",
    "# For the purposes of the visual the east coordinate lay along\n",
    "# the x-axis and the north coordinates long the y-axis.\n",
    "plt.plot(start_ne[1], start_ne[0], 'x')\n",
    "plt.plot(goal_ne[1], goal_ne[0], 'x')\n",
    "\n",
    "if path is not None:\n",
    "    pp = np.array(path)\n",
    "    plt.plot(pp[:, 1], pp[:, 0], 'g')\n",
    "\n",
    "plt.xlabel('EAST')\n",
    "plt.ylabel('NORTH')\n",
    "plt.show()"
   ]
  },
  {
   "cell_type": "markdown",
   "metadata": {},
   "source": [
    "Pretty neat! Unfortunately this path is impractical, the drone would be constantly stopping and going since each grid cell visited is synonymous with a waypoint. Ideally, we'd like to only consider a new waypoint when the drone's direction changes. Path pruning is one way to achieve this result."
   ]
  },
  {
   "cell_type": "markdown",
   "metadata": {},
   "source": [
    "### Path Pruning"
   ]
  },
  {
   "cell_type": "code",
   "execution_count": 13,
   "metadata": {},
   "outputs": [],
   "source": [
    "def point(p):\n",
    "    return np.array([p[0], p[1], 1.]).reshape(1, -1)\n",
    "\n",
    "def collinearity_check(p1, p2, p3, epsilon=1e-6):   \n",
    "    m = np.concatenate((p1, p2, p3), 0)\n",
    "    det = np.linalg.det(m)\n",
    "    return abs(det) < epsilon"
   ]
  },
  {
   "cell_type": "markdown",
   "metadata": {},
   "source": [
    "Complete the `prune_path` function below. It should return a new path much shorter than the original."
   ]
  },
  {
   "cell_type": "code",
   "execution_count": 14,
   "metadata": {},
   "outputs": [],
   "source": [
    "def prune_path(path):\n",
    "    \n",
    "    pruned_path = [p for p in path]\n",
    "    # TODO: prune the path!\n",
    "    i = 0\n",
    "    while i < (len(pruned_path) - 2):\n",
    "        p1 = point(pruned_path[i])\n",
    "        p2 = point(pruned_path[i+1])\n",
    "        p3 = point(pruned_path[i+2])\n",
    "        if collinearity_check(p1, p2, p3):\n",
    "            pruned_path.remove(pruned_path[i+1])\n",
    "        else:\n",
    "            i += 1        \n",
    "        \n",
    "    return pruned_path"
   ]
  },
  {
   "cell_type": "markdown",
   "metadata": {},
   "source": [
    "Prune the path."
   ]
  },
  {
   "cell_type": "code",
   "execution_count": 15,
   "metadata": {},
   "outputs": [
    {
     "name": "stdout",
     "output_type": "stream",
     "text": [
      "47\n"
     ]
    }
   ],
   "source": [
    "pruned_path = prune_path(path)\n",
    "print(len(pruned_path))"
   ]
  },
  {
   "cell_type": "code",
   "execution_count": 16,
   "metadata": {},
   "outputs": [
    {
     "data": {
      "text/plain": [
       "[(25, 100),\n",
       " (36, 111),\n",
       " (36, 143),\n",
       " (176, 283),\n",
       " (176, 293),\n",
       " (207, 324),\n",
       " (319, 324),\n",
       " (327, 316),\n",
       " (377, 316),\n",
       " (387, 306),\n",
       " (423, 306),\n",
       " (456, 339),\n",
       " (456, 353),\n",
       " (457, 354),\n",
       " (571, 354),\n",
       " (596, 379),\n",
       " (596, 383),\n",
       " (597, 384),\n",
       " (720, 384),\n",
       " (721, 383),\n",
       " (722, 383),\n",
       " (723, 382),\n",
       " (724, 382),\n",
       " (725, 381),\n",
       " (726, 381),\n",
       " (727, 380),\n",
       " (729, 380),\n",
       " (730, 379),\n",
       " (731, 379),\n",
       " (732, 378),\n",
       " (733, 378),\n",
       " (734, 377),\n",
       " (735, 377),\n",
       " (736, 376),\n",
       " (737, 376),\n",
       " (738, 375),\n",
       " (740, 375),\n",
       " (741, 374),\n",
       " (742, 374),\n",
       " (743, 373),\n",
       " (744, 373),\n",
       " (745, 372),\n",
       " (746, 372),\n",
       " (747, 371),\n",
       " (748, 371),\n",
       " (749, 370),\n",
       " (750, 370)]"
      ]
     },
     "execution_count": 16,
     "metadata": {},
     "output_type": "execute_result"
    }
   ],
   "source": [
    "pruned_path"
   ]
  },
  {
   "cell_type": "markdown",
   "metadata": {},
   "source": [
    "Replot the path, it will be the same as before but the drone flight will be much smoother."
   ]
  },
  {
   "cell_type": "code",
   "execution_count": 17,
   "metadata": {},
   "outputs": [
    {
     "data": {
      "image/png": "[encoded data removed]",
      "text/plain": [
       "<matplotlib.figure.Figure at 0x6153fef60>"
      ]
     },
     "metadata": {},
     "output_type": "display_data"
    }
   ],
   "source": [
    "plt.imshow(grid, cmap='Greys', origin='lower')\n",
    "\n",
    "plt.plot(start_ne[1], start_ne[0], 'x')\n",
    "plt.plot(goal_ne[1], goal_ne[0], 'x')\n",
    "\n",
    "if pruned_path is not None:\n",
    "    pp = np.array(pruned_path)\n",
    "    plt.plot(pp[:, 1], pp[:, 0], 'g')\n",
    "    plt.scatter(pp[:, 1], pp[:, 0])\n",
    "\n",
    "plt.xlabel('EAST')\n",
    "plt.ylabel('NORTH')\n",
    "\n",
    "plt.show()"
   ]
  },
  {
   "cell_type": "markdown",
   "metadata": {},
   "source": [
    "Now the waypoints symbolize a change in direction, much better!"
   ]
  },
  {
   "cell_type": "markdown",
   "metadata": {},
   "source": [
    "[solution](/notebooks/A-Star-City-Solution.ipynb)"
   ]
  },
  {
   "cell_type": "code",
   "execution_count": null,
   "metadata": {},
   "outputs": [],
   "source": []
  }
 ],
 "metadata": {
  "kernelspec": {
   "display_name": "Python 3",
   "language": "python",
   "name": "python3"
  },
  "language_info": {
   "codemirror_mode": {
    "name": "ipython",
    "version": 3
   },
   "file_extension": ".py",
   "mimetype": "text/x-python",
   "name": "python",
   "nbconvert_exporter": "python",
   "pygments_lexer": "ipython3",
   "version": "3.6.3"
  }
 },
 "nbformat": 4,
 "nbformat_minor": 2
}
